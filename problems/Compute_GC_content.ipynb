{
 "cells": [
  {
   "cell_type": "code",
   "execution_count": 1,
   "metadata": {},
   "outputs": [],
   "source": [
    "import numpy as np\n",
    "from Bio import SeqIO"
   ]
  },
  {
   "cell_type": "code",
   "execution_count": 2,
   "metadata": {},
   "outputs": [],
   "source": [
    "def get_data_dict(data_file):\n",
    "    parsed_data = list(SeqIO.parse(data_file, \"fasta\"))\n",
    "    return dict(\n",
    "        [(k.id, k.seq) for k in parsed_data]\n",
    "    )"
   ]
  },
  {
   "cell_type": "code",
   "execution_count": 3,
   "metadata": {},
   "outputs": [],
   "source": [
    "def get_gc_content(dna_string):\n",
    "    Gcont = sum(s == \"G\" for s in dna_string)\n",
    "    Ccont = sum(s == \"C\" for s in dna_string)\n",
    "    return (Gcont + Ccont) / len(dna_string)"
   ]
  },
  {
   "cell_type": "code",
   "execution_count": 4,
   "metadata": {},
   "outputs": [],
   "source": [
    "def get_gciest_string(data_dict):\n",
    "    gc_content = dict()\n",
    "    for i, (key, value) in enumerate(data_dict.items()):\n",
    "        gc_content[key] = get_gc_content(value)\n",
    "\n",
    "    max_key = max(gc_content, key=gc_content.get)\n",
    "    return max_key, 100 * gc_content[max_key]"
   ]
  },
  {
   "cell_type": "code",
   "execution_count": 5,
   "metadata": {},
   "outputs": [],
   "source": [
    "data_dict = get_data_dict(\"../data/rosalind_gc.txt\")\n",
    "a = get_gciest_string(data_dict)"
   ]
  },
  {
   "cell_type": "code",
   "execution_count": 6,
   "metadata": {},
   "outputs": [
    {
     "name": "stdout",
     "output_type": "stream",
     "text": [
      "('Rosalind_2085', 53.31196581196581)\n"
     ]
    }
   ],
   "source": [
    "print(a)"
   ]
  }
 ],
 "metadata": {
  "kernelspec": {
   "display_name": "pytorch",
   "language": "python",
   "name": "python3"
  },
  "language_info": {
   "codemirror_mode": {
    "name": "ipython",
    "version": 3
   },
   "file_extension": ".py",
   "mimetype": "text/x-python",
   "name": "python",
   "nbconvert_exporter": "python",
   "pygments_lexer": "ipython3",
   "version": "3.9.16"
  }
 },
 "nbformat": 4,
 "nbformat_minor": 2
}
