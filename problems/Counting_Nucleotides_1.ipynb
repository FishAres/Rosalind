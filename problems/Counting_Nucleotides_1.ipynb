{
 "cells": [
  {
   "cell_type": "code",
   "execution_count": 1,
   "metadata": {},
   "outputs": [],
   "source": [
    "import numpy as np\n",
    "import matplotlib.pyplot as plt\n",
    "\n",
    "%matplotlib inline"
   ]
  },
  {
   "cell_type": "code",
   "execution_count": 24,
   "metadata": {},
   "outputs": [],
   "source": [
    "with open(\"rosalind_dna.txt\", \"r\") as f:\n",
    "    data = f.read()"
   ]
  },
  {
   "cell_type": "code",
   "execution_count": 26,
   "metadata": {},
   "outputs": [],
   "source": [
    "nucleotides = \"ACGT\"\n",
    "counts = [sum([n==d for n in data]) for d in nucleotides]"
   ]
  },
  {
   "cell_type": "code",
   "execution_count": 27,
   "metadata": {},
   "outputs": [
    {
     "name": "stdout",
     "output_type": "stream",
     "text": [
      "196 213 217 233\n"
     ]
    }
   ],
   "source": [
    "a = \" \".join(list(map(str, counts)))\n",
    "print(a)"
   ]
  },
  {
   "cell_type": "code",
   "execution_count": 28,
   "metadata": {},
   "outputs": [],
   "source": [
    "ddata = \"GATGGAACTTGACTACGTAAATT\""
   ]
  },
  {
   "cell_type": "code",
   "execution_count": 31,
   "metadata": {},
   "outputs": [
    {
     "data": {
      "text/plain": [
       "'GAUGGAACUUGACUACGUAAAUU'"
      ]
     },
     "execution_count": 31,
     "metadata": {},
     "output_type": "execute_result"
    }
   ],
   "source": [
    "\"\".join(list(map(lambda x: \"U\" if x == \"T\" else x, ddata)))"
   ]
  },
  {
   "cell_type": "code",
   "execution_count": 32,
   "metadata": {},
   "outputs": [],
   "source": [
    "data = \"AAAACCCGGT\""
   ]
  },
  {
   "cell_type": "code",
   "execution_count": 44,
   "metadata": {},
   "outputs": [],
   "source": [
    "with open(\"rosalind_revc.txt\", \"r\") as f:\n",
    "    data = f.read()"
   ]
  },
  {
   "cell_type": "code",
   "execution_count": 49,
   "metadata": {},
   "outputs": [],
   "source": [
    "data_rev = data[::-1].strip()\n",
    "\n",
    "def complement_strand(dna_strand):\n",
    "    complements = {\n",
    "        \"A\": \"T\",\n",
    "        \"C\": \"G\",\n",
    "        \"G\": \"C\",\n",
    "        \"T\": \"A\",\n",
    "    }\n",
    "    return list(map(lambda x: complements[x], dna_strand))"
   ]
  },
  {
   "cell_type": "code",
   "execution_count": 52,
   "metadata": {},
   "outputs": [
    {
     "name": "stdout",
     "output_type": "stream",
     "text": [
      "ACGAGCTATGGGTGGAGGAGCTGTCTGGATAAGAATTACGACTGGGGATCACGGGTCCAAGTGGTAACTGTTGAGCTGGTAAGTTGATGTCACTGTGGTCTTAACGGTCATTGCGGGCCACCAGCCATTTTCGTAGTTATTCAACGTTTTAGAATCTCACTTTCTGATTGCTGCACCGGGCACCGTCCTAGTGCTCCTGGAGGTAAATAAATTTCGTGCTCGTTATTTGTCCCGAACCAAACCAGTACCGGGGCTTATAGCTAAACTGGCTTCGTCCACTAACCCAGTGCAAGAGCGCTCGCTGCCATGCCGATCATCAAATCTATACTAGTACCAGTTTTATCGGTTGCTAACAATATACCCCCCAGAGGCGTCGTGCAACCTTAAATCTCACTACCCTGAAACTGGACCAATCGAATTTCAGCAACTAATGCGGTTTATGCGACTATCGGTAAAGTTGTGTCTGTGTAAAGTATTTGGGAGCGCAACCAGTTTACAGAGGTTTGGAACCTTTGAGAGCCCGCGCTTGTGTGCTGATAATCACAGCACATCGTCGACGCATAGATCACATCGGTACAGGAATCTGGCGAGCCAGAACATGACGTTCGATCATAGCACGATACATTGATTCGCGTACAACCTCGCCGTTGGCGACCCGGGTTCGGTCGGCCGGAAGACCATCTCGAGTAATATAAGAGCCGCACGGCTAATATCTGGTCACTCTGCTATGGTTCCCCCCAAGTTGTTGATCATGTGTTCAGGCGCCCCCTCGAGTGGGGGCGATTAAAGACAATGACTATTACTAGAAGTTAGACGGTTAAGATCCCAATTTACGATGGATATAGGCCGTGTCAAATAACATGCTAATACTCGTAACGGTATCCTGTTTACTCCCGTCACCTTTCCTTGGTGGTGTTATGACACCATCGAAAAGGTACTACAAAATGAACTGCTAAAACTGGGTCTGTGCCACTCACC\n"
     ]
    }
   ],
   "source": [
    "print(\"\".join(complement_strand(data_rev)))"
   ]
  }
 ],
 "metadata": {
  "kernelspec": {
   "display_name": "bio",
   "language": "python",
   "name": "python3"
  },
  "language_info": {
   "codemirror_mode": {
    "name": "ipython",
    "version": 3
   },
   "file_extension": ".py",
   "mimetype": "text/x-python",
   "name": "python",
   "nbconvert_exporter": "python",
   "pygments_lexer": "ipython3",
   "version": "3.9.16"
  }
 },
 "nbformat": 4,
 "nbformat_minor": 2
}
